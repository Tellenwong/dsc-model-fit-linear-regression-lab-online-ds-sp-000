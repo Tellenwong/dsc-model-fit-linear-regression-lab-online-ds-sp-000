{
 "cells": [
  {
   "cell_type": "markdown",
   "metadata": {
    "toc": true
   },
   "source": [
    "<h1>Table of Contents<span class=\"tocSkip\"></span></h1>\n",
    "<div class=\"toc\"><ul class=\"toc-item\"><li><span><a href=\"#Model-Fit-in-Linear-Regression---Lab\" data-toc-modified-id=\"Model-Fit-in-Linear-Regression---Lab-1\"><span class=\"toc-item-num\">1&nbsp;&nbsp;</span>Model Fit in Linear Regression - Lab</a></span><ul class=\"toc-item\"><li><span><a href=\"#Introduction\" data-toc-modified-id=\"Introduction-1.1\"><span class=\"toc-item-num\">1.1&nbsp;&nbsp;</span>Introduction</a></span></li><li><span><a href=\"#Objectives\" data-toc-modified-id=\"Objectives-1.2\"><span class=\"toc-item-num\">1.2&nbsp;&nbsp;</span>Objectives</a></span></li><li><span><a href=\"#The-Boston-Housing-Data-once-more\" data-toc-modified-id=\"The-Boston-Housing-Data-once-more-1.3\"><span class=\"toc-item-num\">1.3&nbsp;&nbsp;</span>The Boston Housing Data once more</a></span></li><li><span><a href=\"#Perform-stepwise-selection\" data-toc-modified-id=\"Perform-stepwise-selection-1.4\"><span class=\"toc-item-num\">1.4&nbsp;&nbsp;</span>Perform stepwise selection</a></span><ul class=\"toc-item\"><li><span><a href=\"#Build-the-final-model-again-in-Statsmodels\" data-toc-modified-id=\"Build-the-final-model-again-in-Statsmodels-1.4.1\"><span class=\"toc-item-num\">1.4.1&nbsp;&nbsp;</span>Build the final model again in Statsmodels</a></span></li></ul></li><li><span><a href=\"#Use-Feature-ranking-with-recursive-feature-elimination\" data-toc-modified-id=\"Use-Feature-ranking-with-recursive-feature-elimination-1.5\"><span class=\"toc-item-num\">1.5&nbsp;&nbsp;</span>Use Feature ranking with recursive feature elimination</a></span></li><li><span><a href=\"#Level-up-(Optional)\" data-toc-modified-id=\"Level-up-(Optional)-1.6\"><span class=\"toc-item-num\">1.6&nbsp;&nbsp;</span>Level up (Optional)</a></span></li><li><span><a href=\"#Summary\" data-toc-modified-id=\"Summary-1.7\"><span class=\"toc-item-num\">1.7&nbsp;&nbsp;</span>Summary</a></span></li></ul></li></ul></div>"
   ]
  },
  {
   "cell_type": "markdown",
   "metadata": {},
   "source": [
    "# Model Fit in Linear Regression - Lab\n",
    "\n",
    "## Introduction\n",
    "In this lab, you'll learn how to evaluate your model results and you'll learn how to select the appropriate features using stepwise selection.\n",
    "\n",
    "## Objectives\n",
    "You will be able to:\n",
    "* Use stepwise selection methods to determine the most important features for a model\n",
    "* Use recursive feature elimination to determine the most important features for a model\n",
    "\n",
    "## The Boston Housing Data once more\n",
    "\n",
    "We pre-processed the Boston Housing data the same way we did before:\n",
    "\n",
    "- We dropped `'ZN'` and `'NOX'` completely\n",
    "- We categorized `'RAD'` in 3 bins and `'TAX'` in 4 bins\n",
    "- We transformed `'RAD'` and `'TAX'` to dummy variables and dropped the first variable\n",
    "- We used min-max-scaling on `'B'`, `'CRIM'`, and `'DIS'` (and logtransformed all of them first, except `'B'`)\n",
    "- We used standardization on `'AGE'`, `'INDUS'`, `'LSTAT'`, and `'PTRATIO'` (and logtransformed all of them first, except for `'AGE'`) "
   ]
  },
  {
   "cell_type": "code",
   "execution_count": 1,
   "metadata": {
    "ExecuteTime": {
     "end_time": "2020-01-18T16:39:58.772750Z",
     "start_time": "2020-01-18T16:39:56.128519Z"
    },
    "collapsed": true
   },
   "outputs": [],
   "source": [
    "import pandas as pd\n",
    "import numpy as np\n",
    "from sklearn.datasets import load_boston\n",
    "boston = load_boston()\n",
    "\n",
    "boston_features = pd.DataFrame(boston.data, columns = boston.feature_names)\n",
    "boston_features = boston_features.drop(['NOX', 'ZN'], axis=1)\n",
    "\n",
    "# First, create bins for based on the values observed. 3 values will result in 2 bins\n",
    "bins = [0, 6, 24]\n",
    "bins_rad = pd.cut(boston_features['RAD'], bins)\n",
    "bins_rad = bins_rad.cat.as_unordered()\n",
    "\n",
    "# First, create bins for based on the values observed. 4 values will result in 3 bins\n",
    "bins = [0, 270, 360, 712]\n",
    "bins_tax = pd.cut(boston_features['TAX'], bins)\n",
    "bins_tax = bins_tax.cat.as_unordered()\n",
    "\n",
    "tax_dummy = pd.get_dummies(bins_tax, prefix='TAX', drop_first=True)\n",
    "rad_dummy = pd.get_dummies(bins_rad, prefix='RAD', drop_first=True)\n",
    "boston_features = boston_features.drop(['RAD', 'TAX'], axis=1)\n",
    "boston_features = pd.concat([boston_features, rad_dummy, tax_dummy], axis=1)\n",
    "\n",
    "age = boston_features['AGE']\n",
    "b = boston_features['B']\n",
    "logcrim = np.log(boston_features['CRIM'])\n",
    "logdis = np.log(boston_features['DIS'])\n",
    "logindus = np.log(boston_features['INDUS'])\n",
    "loglstat = np.log(boston_features['LSTAT'])\n",
    "logptratio = np.log(boston_features['PTRATIO'])\n",
    "\n",
    "# Min-Max scaling\n",
    "boston_features['B'] = (b-min(b))/(max(b)-min(b))\n",
    "boston_features['CRIM'] = (logcrim-min(logcrim))/(max(logcrim)-min(logcrim))\n",
    "boston_features['DIS'] = (logdis-min(logdis))/(max(logdis)-min(logdis))\n",
    "\n",
    "# Standardization\n",
    "boston_features['AGE'] = (age-np.mean(age))/np.sqrt(np.var(age))\n",
    "boston_features['INDUS'] = (logindus-np.mean(logindus))/np.sqrt(np.var(logindus))\n",
    "boston_features['LSTAT'] = (loglstat-np.mean(loglstat))/np.sqrt(np.var(loglstat))\n",
    "boston_features['PTRATIO'] = (logptratio-np.mean(logptratio))/(np.sqrt(np.var(logptratio)))"
   ]
  },
  {
   "cell_type": "markdown",
   "metadata": {},
   "source": [
    "## Perform stepwise selection"
   ]
  },
  {
   "cell_type": "markdown",
   "metadata": {},
   "source": [
    "The function for stepwise selection is copied below. Use this function provided on your preprocessed Boston Housing data."
   ]
  },
  {
   "cell_type": "code",
   "execution_count": 9,
   "metadata": {
    "ExecuteTime": {
     "end_time": "2020-01-18T17:36:38.838707Z",
     "start_time": "2020-01-18T17:36:38.816052Z"
    },
    "collapsed": true
   },
   "outputs": [],
   "source": [
    "import statsmodels.api as sm\n",
    "\n",
    "def stepwise_selection(X, y, \n",
    "                       initial_list=[], \n",
    "                       threshold_in=0.01, \n",
    "                       threshold_out = 0.05, \n",
    "                       verbose=True):\n",
    "    \"\"\" Perform a forward-backward feature selection \n",
    "    based on p-value from statsmodels.api.OLS\n",
    "    Arguments:\n",
    "        X - pandas.DataFrame with candidate features\n",
    "        y - list-like with the target\n",
    "        initial_list - list of features to start with (column names of X)\n",
    "        threshold_in - include a feature if its p-value < threshold_in\n",
    "        threshold_out - exclude a feature if its p-value > threshold_out\n",
    "        verbose - whether to print the sequence of inclusions and exclusions\n",
    "    Returns: list of selected features \n",
    "    Always set threshold_in < threshold_out to avoid infinite looping.\n",
    "    See https://en.wikipedia.org/wiki/Stepwise_regression for the details\n",
    "    \"\"\"\n",
    "    included = list(initial_list)\n",
    "    while True:\n",
    "        changed=False\n",
    "        # forward step\n",
    "        excluded = list(set(X.columns)-set(included))\n",
    "        new_pval = pd.Series(index=excluded)\n",
    "        for new_column in excluded:\n",
    "            model = sm.OLS(y, sm.add_constant(pd.DataFrame(X[included+[new_column]]))).fit()\n",
    "            new_pval[new_column] = model.pvalues[new_column]\n",
    "        best_pval = new_pval.min()\n",
    "        if best_pval < threshold_in:\n",
    "            best_feature = new_pval.idxmin()\n",
    "            included.append(best_feature)\n",
    "            changed=True\n",
    "            if verbose:\n",
    "                print('Add  {:30} with p-value {:.6}'.format(best_feature, best_pval))\n",
    "\n",
    "        # backward step\n",
    "        model = sm.OLS(y, sm.add_constant(pd.DataFrame(X[included]))).fit()\n",
    "        # use all coefs except intercept\n",
    "        pvalues = model.pvalues.iloc[1:]\n",
    "        worst_pval = pvalues.max() # null if pvalues is empty\n",
    "        if worst_pval > threshold_out:\n",
    "            changed=True\n",
    "            worst_feature = pvalues.argmax()\n",
    "            included.remove(worst_feature)\n",
    "            if verbose:\n",
    "                print('Drop {:30} with p-value {:.6}'.format(worst_feature, worst_pval))\n",
    "        if not changed:\n",
    "            break\n",
    "    return included"
   ]
  },
  {
   "cell_type": "code",
   "execution_count": 10,
   "metadata": {
    "ExecuteTime": {
     "end_time": "2020-01-18T17:36:41.064477Z",
     "start_time": "2020-01-18T17:36:39.786818Z"
    }
   },
   "outputs": [
    {
     "name": "stdout",
     "output_type": "stream",
     "text": [
      "Add  LSTAT                          with p-value 9.27989e-122\n",
      "Add  RM                             with p-value 1.98621e-16\n",
      "Add  PTRATIO                        with p-value 2.5977e-12\n",
      "Add  DIS                            with p-value 2.85496e-09\n",
      "Add  B                              with p-value 2.77572e-06\n",
      "Add  INDUS                          with p-value 0.0017767\n",
      "Add  CHAS                           with p-value 0.0004737\n",
      "resulting features:\n",
      "['LSTAT', 'RM', 'PTRATIO', 'DIS', 'B', 'INDUS', 'CHAS']\n"
     ]
    }
   ],
   "source": [
    "X = boston_features\n",
    "y = pd.DataFrame(boston.target, columns=['price'])\n",
    "result = stepwise_selection(X, y, verbose= True)\n",
    "print('resulting features:')\n",
    "print(result)"
   ]
  },
  {
   "cell_type": "markdown",
   "metadata": {},
   "source": [
    "### Build the final model again in Statsmodels"
   ]
  },
  {
   "cell_type": "code",
   "execution_count": 11,
   "metadata": {
    "ExecuteTime": {
     "end_time": "2020-01-18T17:36:41.853730Z",
     "start_time": "2020-01-18T17:36:41.758910Z"
    }
   },
   "outputs": [
    {
     "data": {
      "text/html": [
       "<table class=\"simpletable\">\n",
       "<caption>OLS Regression Results</caption>\n",
       "<tr>\n",
       "  <th>Dep. Variable:</th>          <td>price</td>      <th>  R-squared:         </th> <td>   0.773</td> \n",
       "</tr>\n",
       "<tr>\n",
       "  <th>Model:</th>                   <td>OLS</td>       <th>  Adj. R-squared:    </th> <td>   0.770</td> \n",
       "</tr>\n",
       "<tr>\n",
       "  <th>Method:</th>             <td>Least Squares</td>  <th>  F-statistic:       </th> <td>   242.7</td> \n",
       "</tr>\n",
       "<tr>\n",
       "  <th>Date:</th>             <td>Sat, 18 Jan 2020</td> <th>  Prob (F-statistic):</th> <td>4.89e-156</td>\n",
       "</tr>\n",
       "<tr>\n",
       "  <th>Time:</th>                 <td>08:36:41</td>     <th>  Log-Likelihood:    </th> <td> -1464.7</td> \n",
       "</tr>\n",
       "<tr>\n",
       "  <th>No. Observations:</th>      <td>   506</td>      <th>  AIC:               </th> <td>   2945.</td> \n",
       "</tr>\n",
       "<tr>\n",
       "  <th>Df Residuals:</th>          <td>   498</td>      <th>  BIC:               </th> <td>   2979.</td> \n",
       "</tr>\n",
       "<tr>\n",
       "  <th>Df Model:</th>              <td>     7</td>      <th>                     </th>     <td> </td>    \n",
       "</tr>\n",
       "<tr>\n",
       "  <th>Covariance Type:</th>      <td>nonrobust</td>    <th>                     </th>     <td> </td>    \n",
       "</tr>\n",
       "</table>\n",
       "<table class=\"simpletable\">\n",
       "<tr>\n",
       "     <td></td>        <th>coef</th>     <th>std err</th>      <th>t</th>      <th>P>|t|</th>  <th>[0.025</th>    <th>0.975]</th>  \n",
       "</tr>\n",
       "<tr>\n",
       "  <th>const</th>   <td>    5.0123</td> <td>    2.829</td> <td>    1.772</td> <td> 0.077</td> <td>   -0.545</td> <td>   10.570</td>\n",
       "</tr>\n",
       "<tr>\n",
       "  <th>LSTAT</th>   <td>   -5.6444</td> <td>    0.320</td> <td>  -17.629</td> <td> 0.000</td> <td>   -6.274</td> <td>   -5.015</td>\n",
       "</tr>\n",
       "<tr>\n",
       "  <th>RM</th>      <td>    2.8712</td> <td>    0.388</td> <td>    7.405</td> <td> 0.000</td> <td>    2.109</td> <td>    3.633</td>\n",
       "</tr>\n",
       "<tr>\n",
       "  <th>PTRATIO</th> <td>   -1.3564</td> <td>    0.227</td> <td>   -5.983</td> <td> 0.000</td> <td>   -1.802</td> <td>   -0.911</td>\n",
       "</tr>\n",
       "<tr>\n",
       "  <th>DIS</th>     <td>   -9.7229</td> <td>    1.326</td> <td>   -7.333</td> <td> 0.000</td> <td>  -12.328</td> <td>   -7.118</td>\n",
       "</tr>\n",
       "<tr>\n",
       "  <th>B</th>       <td>    4.0619</td> <td>    0.934</td> <td>    4.347</td> <td> 0.000</td> <td>    2.226</td> <td>    5.898</td>\n",
       "</tr>\n",
       "<tr>\n",
       "  <th>INDUS</th>   <td>   -1.2099</td> <td>    0.334</td> <td>   -3.619</td> <td> 0.000</td> <td>   -1.867</td> <td>   -0.553</td>\n",
       "</tr>\n",
       "<tr>\n",
       "  <th>CHAS</th>    <td>    2.7988</td> <td>    0.795</td> <td>    3.519</td> <td> 0.000</td> <td>    1.236</td> <td>    4.362</td>\n",
       "</tr>\n",
       "</table>\n",
       "<table class=\"simpletable\">\n",
       "<tr>\n",
       "  <th>Omnibus:</th>       <td>105.185</td> <th>  Durbin-Watson:     </th> <td>   1.099</td>\n",
       "</tr>\n",
       "<tr>\n",
       "  <th>Prob(Omnibus):</th> <td> 0.000</td>  <th>  Jarque-Bera (JB):  </th> <td> 423.621</td>\n",
       "</tr>\n",
       "<tr>\n",
       "  <th>Skew:</th>          <td> 0.878</td>  <th>  Prob(JB):          </th> <td>1.03e-92</td>\n",
       "</tr>\n",
       "<tr>\n",
       "  <th>Kurtosis:</th>      <td> 7.124</td>  <th>  Cond. No.          </th> <td>    96.7</td>\n",
       "</tr>\n",
       "</table><br/><br/>Warnings:<br/>[1] Standard Errors assume that the covariance matrix of the errors is correctly specified."
      ],
      "text/plain": [
       "<class 'statsmodels.iolib.summary.Summary'>\n",
       "\"\"\"\n",
       "                            OLS Regression Results                            \n",
       "==============================================================================\n",
       "Dep. Variable:                  price   R-squared:                       0.773\n",
       "Model:                            OLS   Adj. R-squared:                  0.770\n",
       "Method:                 Least Squares   F-statistic:                     242.7\n",
       "Date:                Sat, 18 Jan 2020   Prob (F-statistic):          4.89e-156\n",
       "Time:                        08:36:41   Log-Likelihood:                -1464.7\n",
       "No. Observations:                 506   AIC:                             2945.\n",
       "Df Residuals:                     498   BIC:                             2979.\n",
       "Df Model:                           7                                         \n",
       "Covariance Type:            nonrobust                                         \n",
       "==============================================================================\n",
       "                 coef    std err          t      P>|t|      [0.025      0.975]\n",
       "------------------------------------------------------------------------------\n",
       "const          5.0123      2.829      1.772      0.077      -0.545      10.570\n",
       "LSTAT         -5.6444      0.320    -17.629      0.000      -6.274      -5.015\n",
       "RM             2.8712      0.388      7.405      0.000       2.109       3.633\n",
       "PTRATIO       -1.3564      0.227     -5.983      0.000      -1.802      -0.911\n",
       "DIS           -9.7229      1.326     -7.333      0.000     -12.328      -7.118\n",
       "B              4.0619      0.934      4.347      0.000       2.226       5.898\n",
       "INDUS         -1.2099      0.334     -3.619      0.000      -1.867      -0.553\n",
       "CHAS           2.7988      0.795      3.519      0.000       1.236       4.362\n",
       "==============================================================================\n",
       "Omnibus:                      105.185   Durbin-Watson:                   1.099\n",
       "Prob(Omnibus):                  0.000   Jarque-Bera (JB):              423.621\n",
       "Skew:                           0.878   Prob(JB):                     1.03e-92\n",
       "Kurtosis:                       7.124   Cond. No.                         96.7\n",
       "==============================================================================\n",
       "\n",
       "Warnings:\n",
       "[1] Standard Errors assume that the covariance matrix of the errors is correctly specified.\n",
       "\"\"\""
      ]
     },
     "execution_count": 11,
     "metadata": {},
     "output_type": "execute_result"
    }
   ],
   "source": [
    "import statsmodels.api as sm\n",
    "X_fin = X[['LSTAT', 'RM', 'PTRATIO', 'DIS', 'B', 'INDUS', 'CHAS']]\n",
    "X_with_intercept = sm.add_constant(X_fin)\n",
    "model = sm.OLS(y,X_with_intercept).fit()\n",
    "model.summary()"
   ]
  },
  {
   "cell_type": "markdown",
   "metadata": {},
   "source": [
    "The stepwise procedure mentions that `'INDUS'` was added with a p-value of 0.0017767, but our statsmodels output returns a p-value of 0.000. Use some of the stepwise procedure logic to find the intuition behind this!"
   ]
  },
  {
   "cell_type": "markdown",
   "metadata": {},
   "source": [
    "## Use Feature ranking with recursive feature elimination"
   ]
  },
  {
   "cell_type": "markdown",
   "metadata": {},
   "source": [
    "Use feature ranking to select the 5 most important features"
   ]
  },
  {
   "cell_type": "code",
   "execution_count": 52,
   "metadata": {
    "ExecuteTime": {
     "end_time": "2020-01-18T18:55:31.257548Z",
     "start_time": "2020-01-18T18:55:31.230037Z"
    }
   },
   "outputs": [
    {
     "data": {
      "text/plain": [
       "array([False, False,  True,  True, False,  True, False,  True,  True,\n",
       "       False, False, False])"
      ]
     },
     "execution_count": 52,
     "metadata": {},
     "output_type": "execute_result"
    }
   ],
   "source": [
    "from sklearn.feature_selection import RFE\n",
    "from sklearn.linear_model import LinearRegression\n",
    "\n",
    "linreg = LinearRegression() # Ordinary least squares regression. An intercept will be calculated for this model.\n",
    "selector = RFE(linreg, n_features_to_select = 5) # 5 because the lab is asking for 5 most important features\n",
    "selector = selector.fit(X, y.values.ravel())# convert y to 1d np array to prevent DataConversionWarning\n",
    "selector.support_ # calling the support attribute tells you which variables/columns are selected"
   ]
  },
  {
   "cell_type": "markdown",
   "metadata": {},
   "source": [
    "Fit the linear regression model again using the 5 selected columns"
   ]
  },
  {
   "cell_type": "code",
   "execution_count": 53,
   "metadata": {
    "ExecuteTime": {
     "end_time": "2020-01-18T18:55:31.881554Z",
     "start_time": "2020-01-18T18:55:31.852937Z"
    }
   },
   "outputs": [
    {
     "data": {
      "text/plain": [
       "LinearRegression(copy_X=True, fit_intercept=True, n_jobs=None,\n",
       "         normalize=False)"
      ]
     },
     "execution_count": 53,
     "metadata": {},
     "output_type": "execute_result"
    }
   ],
   "source": [
    "selected_columns = X.columns[selector.support_]\n",
    "linreg.fit(X[selected_columns], y) # X is the training data, y contains the target values (the calc'd intercept?)"
   ]
  },
  {
   "cell_type": "markdown",
   "metadata": {},
   "source": [
    "Now, predict $\\hat y$ using your model. You can use `.predict()` in scikit-learn. "
   ]
  },
  {
   "cell_type": "code",
   "execution_count": 54,
   "metadata": {
    "ExecuteTime": {
     "end_time": "2020-01-18T18:55:32.376094Z",
     "start_time": "2020-01-18T18:55:32.363665Z"
    },
    "collapsed": true
   },
   "outputs": [],
   "source": [
    "yhat = linreg.predict(X[selected_columns]) # yhat = represents the predicted equation for a line of best fit in linear regression."
   ]
  },
  {
   "cell_type": "markdown",
   "metadata": {},
   "source": [
    "Now, using the formulas of R-squared and adjusted R-squared below, and your Python/numpy knowledge, compute them and contrast them with the R-squared and adjusted R-squared in your statsmodels output using stepwise selection. Which of the two models would you prefer?"
   ]
  },
  {
   "cell_type": "markdown",
   "metadata": {},
   "source": [
    "$SS_{residual} = \\sum (y - \\hat{y})^2 $\n",
    "\n",
    "$SS_{total} = \\sum (y - \\bar{y})^2 $\n",
    "\n",
    "$R^2 = 1- \\dfrac{SS_{residual}}{SS_{total}}$\n",
    "\n",
    "$R^2_{adj}= 1-(1-R^2)\\dfrac{n-1}{n-p-1}$"
   ]
  },
  {
   "cell_type": "code",
   "execution_count": 55,
   "metadata": {
    "ExecuteTime": {
     "end_time": "2020-01-18T18:55:32.952771Z",
     "start_time": "2020-01-18T18:55:32.917889Z"
    }
   },
   "outputs": [
    {
     "name": "stdout",
     "output_type": "stream",
     "text": [
      "price    0.742981\n",
      "dtype: float64 price    0.740411\n",
      "dtype: float64\n"
     ]
    }
   ],
   "source": [
    "SS_Residual = np.sum((y - yhat)**2) # the **2 raises to the 2nd power\n",
    "SS_Total = np.sum((y - np.mean(y))**2) \n",
    "r_squared = 1 - (float(SS_Residual))/SS_Total # not sure why SS_Residual has to be turned to a float\n",
    "adjusted_r_squared = 1 - (1-r_squared)*(len(y)-1)/(len(y) - X[selected_columns].shape[1]-1)\n",
    "print(r_squared, adjusted_r_squared)\n",
    "# Yhat = a + bx where b is the slope and a is the y-intercept.\n",
    "# It is used to differentiate between the predicted (or fitted) data and the observed data y. \n",
    "# Y-hat is also used in calculating the residuals (the vertical differences between the observed and fitted\n",
    "# y values)\n",
    "\n",
    "# r_squared is 0.742981  \n",
    "# adjusted_r_squared is 0.740411\n",
    "# My first instinct is to prefer the stepwise selection model because both the r-squared and adjusted \n",
    "# r-squared values provided in this model were higher than the same respective values obtained in this \n",
    "# above recursive feature elimination model. However, this recursive feature elimination model is more\n",
    "# selective in that it only used 5 features, so we may potentially be overfitting the data with the stepwise\n",
    "# selection model. Every time you add a predictor to a model, the r-squared value increases, even if by chance.\n",
    "# I would want to see residual plots for each of the variables included in each model before I make a decision\n",
    "# about whether to trust the included features or not. I would also want to try running the recursive feature\n",
    "# elimination model with more features included to see the effect on adjusted r-squared values."
   ]
  },
  {
   "cell_type": "markdown",
   "metadata": {},
   "source": [
    "## Level up (Optional)"
   ]
  },
  {
   "cell_type": "markdown",
   "metadata": {},
   "source": [
    "- Perform variable selection using forward selection, using this resource: https://planspace.org/20150423-forward_selection_with_statsmodels/. Note that this time features are added based on the adjusted R-squared!\n",
    "- Tweak the code in the `stepwise_selection()` function written above to just perform forward selection based on the p-value "
   ]
  },
  {
   "cell_type": "markdown",
   "metadata": {},
   "source": [
    "## Summary\n",
    "Great! You practiced your feature selection skills by applying stepwise selection and recursive feature elimination to the Boston Housing dataset! "
   ]
  }
 ],
 "metadata": {
  "kernelspec": {
   "display_name": "learn_env",
   "language": "python",
   "name": "learn_env"
  },
  "language_info": {
   "codemirror_mode": {
    "name": "ipython",
    "version": 3
   },
   "file_extension": ".py",
   "mimetype": "text/x-python",
   "name": "python",
   "nbconvert_exporter": "python",
   "pygments_lexer": "ipython3",
   "version": "3.6.6"
  },
  "toc": {
   "base_numbering": 1,
   "nav_menu": {},
   "number_sections": true,
   "sideBar": true,
   "skip_h1_title": false,
   "title_cell": "Table of Contents",
   "title_sidebar": "Contents",
   "toc_cell": true,
   "toc_position": {},
   "toc_section_display": true,
   "toc_window_display": true
  },
  "varInspector": {
   "cols": {
    "lenName": 16,
    "lenType": 16,
    "lenVar": 40
   },
   "kernels_config": {
    "python": {
     "delete_cmd_postfix": "",
     "delete_cmd_prefix": "del ",
     "library": "var_list.py",
     "varRefreshCmd": "print(var_dic_list())"
    },
    "r": {
     "delete_cmd_postfix": ") ",
     "delete_cmd_prefix": "rm(",
     "library": "var_list.r",
     "varRefreshCmd": "cat(var_dic_list()) "
    }
   },
   "oldHeight": 122,
   "position": {
    "height": "40px",
    "left": "1170px",
    "right": "20px",
    "top": "120px",
    "width": "250px"
   },
   "types_to_exclude": [
    "module",
    "function",
    "builtin_function_or_method",
    "instance",
    "_Feature"
   ],
   "varInspector_section_display": "none",
   "window_display": true
  }
 },
 "nbformat": 4,
 "nbformat_minor": 2
}
